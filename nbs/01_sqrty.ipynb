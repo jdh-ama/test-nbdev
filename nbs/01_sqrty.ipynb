{
 "cells": [
  {
   "cell_type": "markdown",
   "id": "495444b3-d3a5-4813-b14b-74c9948ca811",
   "metadata": {},
   "source": [
    "# sqrty"
   ]
  },
  {
   "cell_type": "code",
   "execution_count": null,
   "id": "5d396295-ee5f-4c38-bc6a-67a9dc261a52",
   "metadata": {},
   "outputs": [],
   "source": [
    "#| default_exp sqrty"
   ]
  },
  {
   "cell_type": "code",
   "execution_count": null,
   "id": "09a14daf-f81d-46e4-85b5-1eba7ab0f7da",
   "metadata": {},
   "outputs": [],
   "source": [
    "#| export\n",
    "def sqrty():\n",
    "    pass"
   ]
  }
 ],
 "metadata": {
  "kernelspec": {
   "display_name": "python3",
   "language": "python",
   "name": "python3"
  }
 },
 "nbformat": 4,
 "nbformat_minor": 5
}
